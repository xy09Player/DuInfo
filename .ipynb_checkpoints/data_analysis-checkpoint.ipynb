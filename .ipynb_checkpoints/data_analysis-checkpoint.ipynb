{
 "cells": [
  {
   "cell_type": "code",
   "execution_count": 1,
   "metadata": {
    "collapsed": true
   },
   "outputs": [],
   "source": [
    "import json\n",
    "import pandas as pd\n",
    "import jieba\n",
    "from jieba import posseg\n",
    "import numpy as np\n",
    "from loader import *\n",
    "import pickle\n",
    "import torch\n",
    "from torch import nn\n",
    "import random\n",
    "import sys\n",
    "# from modules import embedding, encoder, model_sbj\n",
    "from sklearn.model_selection import KFold"
   ]
  },
  {
   "cell_type": "code",
   "execution_count": 2,
   "metadata": {
    "collapsed": true
   },
   "outputs": [],
   "source": [
    "file_path = '../data/train_data.json'"
   ]
  },
  {
   "cell_type": "code",
   "execution_count": 3,
   "metadata": {},
   "outputs": [
    {
     "name": "stdout",
     "output_type": "stream",
     "text": [
      "p, making sample_num:169262/173108, radio:0.9778\n"
     ]
    }
   ],
   "source": [
    "a = gen_train_data_join(file_path)"
   ]
  },
  {
   "cell_type": "code",
   "execution_count": 4,
   "metadata": {},
   "outputs": [
    {
     "data": {
      "text/plain": [
       "6"
      ]
     },
     "execution_count": 4,
     "metadata": {},
     "output_type": "execute_result"
    }
   ],
   "source": [
    "if is_train:\n",
    "\n",
    "\n",
    "\n",
    "\n",
    "\n",
    "\n",
    "\n",
    "                for ith in range(batch_size):\n",
    "\n",
    "\n",
    "                    if sum(sbj_item) != 0 and sum(obj_item) != 0:\n",
    "\n",
    "                        index = -9\n",
    "                        tmp = []\n",
    "                        for i in range(len(obj_item)):\n",
    "                            if i <= index:\n",
    "                                continue\n",
    "                            if obj_item[i] != 0:\n",
    "                                index_s = i\n",
    "                                for j in range(len(obj_item[i:])):\n",
    "                                    if obj_item[i:][j] == 0:\n",
    "                                        index_e = i + j - 1\n",
    "                                        break\n",
    "                                    if j == len(obj_item[i:]) - 1:\n",
    "                                        index_e = len(obj_item) - 1\n",
    "                                tmp.append((index_s, index_e))\n",
    "                                index = index_e\n",
    "                        obj_tmp.append(tmp)\n",
    "\n",
    "                        p_dict_tmp.append(p_dict_item)\n",
    "\n",
    "                samples = len(vec_tmp)\n",
    "                x = []\n",
    "                y = []\n",
    "                p_0 = [0 for _ in range(49)]\n",
    "                for ith in range(samples):\n",
    "                    vec_item = vec_tmp[ith]\n",
    "                    sbj_item = sbj_tmp[ith]\n",
    "                    obj_item = obj_tmp[ith]\n",
    "                    p_dict_item = p_dict_tmp[ith]\n",
    "\n",
    "                    for sbj_index in sbj_item:\n",
    "                        for obj_index in obj_item:\n",
    "                            vec_sbj_tmp = vec_item.index_select(dim=0, index=torch.LongTensor(sbj_index).cuda()).mean(dim=0)\n",
    "                            vec_obj_tmp = vec_item.index_select(dim=0, index=torch.LongTensor(obj_index).cuda()).mean(dim=0)\n",
    "                            vec_feat = torch.cat([vec_sbj_tmp, vec_obj_tmp]).reshape(1, -1)\n",
    "                            x.append(vec_feat)\n",
    "                            if (sbj_index, obj_index) in p_dict_item:\n",
    "                                y.append(p_dict_item[(sbj_index, obj_index)])\n",
    "                            else:\n",
    "                                y.append(p_0)\n",
    "                if x:\n",
    "                    x = torch.cat(x, dim=0)  # (*, h*4)\n",
    "                    y = torch.FloatTensor(y).cuda()  # (*, 49)\n",
    "\n",
    "                    # p\n",
    "                    x = self.p_fc(x)\n",
    "                    loss_p = F.binary_cross_entropy_with_logits(x, y)\n",
    "                else:\n",
    "                    loss_p = torch.Tensor([0]).cuda()\n",
    "\n",
    "                loss = 2 * (loss_sbj + loss_obj) + loss_p\n",
    "                return loss, loss_sbj, loss_obj, loss_p\n",
    "\n",
    "            else:\n",
    "                loss = 2 * (loss_sbj + loss_obj)\n",
    "                return loss, loss_sbj, loss_obj, torch.Tensor([0]).cuda()"
   ]
  },
  {
   "cell_type": "code",
   "execution_count": 8,
   "metadata": {},
   "outputs": [
    {
     "name": "stdout",
     "output_type": "stream",
     "text": [
      "['爱', '德', '华', '·', '尼', '科', '·', '埃', '尔', '南', '迪', '斯', '（', '1', '9', '8', '6', '-', '）', '，', '是', '一', '位', '身', '高', '只', '有', '7', '0', '公', '分', '哥', '伦', '比', '亚', '男', '子', '，', '体', '重', '1', '0', '公', '斤', '，', '只', '比', '随', '身', '行', '李', '高', '一', '些', '，', '2', '0', '1', '0', '年', '获', '吉', '尼', '斯', '世', '界', '纪', '录', '正', '式', '认', '证', '，', '成', '为', '全', '球', '当', '今', '最', '矮', '的', '成', '年', '男', '人']\n",
      "[1. 2. 2. 2. 2. 2. 2. 2. 2. 2. 2. 3. 0. 0. 0. 0. 0. 0. 0. 0. 0. 0. 0. 0.\n",
      " 0. 0. 0. 0. 0. 0. 0. 0. 0. 0. 0. 0. 0. 0. 0. 0. 0. 0. 0. 0. 0. 0. 0. 0.\n",
      " 0. 0. 0. 0. 0. 0. 0. 0. 0. 0. 0. 0. 0. 0. 0. 0. 0. 0. 0. 0. 0. 0. 0. 0.\n",
      " 0. 0. 0. 0. 0. 0. 0. 0. 0. 0. 0. 0. 0. 0.]\n",
      "[0. 0. 0. 0. 0. 0. 0. 0. 0. 0. 0. 0. 0. 1. 2. 2. 3. 0. 0. 0. 0. 0. 0. 0.\n",
      " 0. 0. 0. 1. 2. 2. 3. 1. 2. 2. 3. 0. 0. 0. 0. 0. 0. 0. 0. 0. 0. 0. 0. 0.\n",
      " 0. 0. 0. 0. 0. 0. 0. 0. 0. 0. 0. 0. 0. 0. 0. 0. 0. 0. 0. 0. 0. 0. 0. 0.\n",
      " 0. 0. 0. 0. 0. 0. 0. 0. 0. 0. 0. 0. 0. 0.]\n",
      "[(0, 11), (0, 11), (0, 11)]\n",
      "[(27, 30), (13, 16), (31, 34)]\n",
      "[[0, 0, 0, 0, 0, 0, 0, 0, 0, 0, 0, 0, 0, 0, 0, 0, 0, 0, 0, 0, 0, 0, 0, 0, 0, 0, 0, 0, 0, 0, 0, 0, 0, 0, 0, 0, 0, 0, 0, 0, 1, 0, 0, 0, 0, 0, 0, 0, 0], [0, 0, 0, 0, 0, 0, 0, 0, 0, 0, 0, 0, 0, 0, 0, 0, 0, 0, 0, 1, 0, 0, 0, 0, 0, 0, 0, 0, 0, 0, 0, 0, 0, 0, 0, 0, 0, 0, 0, 0, 0, 0, 0, 0, 0, 0, 0, 0, 0], [0, 0, 0, 0, 0, 0, 0, 0, 0, 0, 0, 0, 0, 0, 0, 0, 0, 0, 0, 0, 0, 0, 0, 0, 0, 0, 0, 0, 0, 0, 0, 0, 0, 0, 1, 0, 0, 0, 0, 0, 0, 0, 0, 0, 0, 0, 0, 0, 0]]\n"
     ]
    }
   ],
   "source": [
    "index = 3\n",
    "print(a[0][index])\n",
    "print(a[1][index])\n",
    "print(a[2][index])\n",
    "print(a[3][index])\n",
    "print(a[4][index])\n",
    "print(a[5][index])"
   ]
  },
  {
   "cell_type": "code",
   "execution_count": 11,
   "metadata": {},
   "outputs": [
    {
     "ename": "TypeError",
     "evalue": "unhashable type: 'list'",
     "output_type": "error",
     "traceback": [
      "\u001b[0;31m---------------------------------------------------------------------------\u001b[0m",
      "\u001b[0;31mTypeError\u001b[0m                                 Traceback (most recent call last)",
      "\u001b[0;32m<ipython-input-11-21b3eaad07e7>\u001b[0m in \u001b[0;36m<module>\u001b[0;34m()\u001b[0m\n\u001b[0;32m----> 1\u001b[0;31m \u001b[0ma\u001b[0m \u001b[0;34m=\u001b[0m \u001b[0;34m{\u001b[0m\u001b[0;34m'a'\u001b[0m\u001b[0;34m:\u001b[0m\u001b[0;36m1\u001b[0m\u001b[0;34m,\u001b[0m \u001b[0;34m(\u001b[0m\u001b[0;34m[\u001b[0m\u001b[0;36m1\u001b[0m\u001b[0;34m,\u001b[0m\u001b[0;36m3\u001b[0m\u001b[0;34m]\u001b[0m\u001b[0;34m,\u001b[0m \u001b[0;34m[\u001b[0m\u001b[0;36m3\u001b[0m\u001b[0;34m,\u001b[0m\u001b[0;36m4\u001b[0m\u001b[0;34m]\u001b[0m\u001b[0;34m)\u001b[0m\u001b[0;34m:\u001b[0m\u001b[0;36m4\u001b[0m\u001b[0;34m}\u001b[0m\u001b[0;34m\u001b[0m\u001b[0;34m\u001b[0m\u001b[0m\n\u001b[0m",
      "\u001b[0;31mTypeError\u001b[0m: unhashable type: 'list'"
     ]
    }
   ],
   "source": [
    "a = {'a':1, ([1,3], [3,4]):4}"
   ]
  },
  {
   "cell_type": "code",
   "execution_count": null,
   "metadata": {
    "collapsed": true
   },
   "outputs": [],
   "source": []
  },
  {
   "cell_type": "code",
   "execution_count": null,
   "metadata": {
    "collapsed": true
   },
   "outputs": [],
   "source": []
  },
  {
   "cell_type": "code",
   "execution_count": null,
   "metadata": {
    "collapsed": true
   },
   "outputs": [],
   "source": []
  },
  {
   "cell_type": "code",
   "execution_count": null,
   "metadata": {
    "collapsed": true
   },
   "outputs": [],
   "source": []
  },
  {
   "cell_type": "code",
   "execution_count": null,
   "metadata": {
    "collapsed": true
   },
   "outputs": [],
   "source": []
  }
 ],
 "metadata": {
  "kernelspec": {
   "display_name": "Python 3",
   "language": "python",
   "name": "python3"
  },
  "language_info": {
   "codemirror_mode": {
    "name": "ipython",
    "version": 3
   },
   "file_extension": ".py",
   "mimetype": "text/x-python",
   "name": "python",
   "nbconvert_exporter": "python",
   "pygments_lexer": "ipython3",
   "version": "3.6.8"
  }
 },
 "nbformat": 4,
 "nbformat_minor": 2
}
