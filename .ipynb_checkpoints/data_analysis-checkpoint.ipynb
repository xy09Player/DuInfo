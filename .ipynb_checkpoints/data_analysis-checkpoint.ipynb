{
 "cells": [
  {
   "cell_type": "code",
   "execution_count": 2,
   "metadata": {
    "collapsed": true
   },
   "outputs": [],
   "source": [
    "import json\n",
    "import pandas as pd\n",
    "import jieba\n",
    "import numpy as np\n",
    "from loader import *\n",
    "import torch\n",
    "import sys\n",
    "from modules import embedding, encoder, model_sbj"
   ]
  },
  {
   "cell_type": "code",
   "execution_count": 61,
   "metadata": {},
   "outputs": [],
   "source": [
    "data = []\n",
    "file_path = '../data/train_data.json'\n",
    "with open(file_path, 'r') as f:\n",
    "    for line in f:\n",
    "        tmp = json.loads(line)\n",
    "        data.append({\n",
    "            'text': tmp['text'],\n",
    "            'spo_list': set([spo['predicate'] for spo in tmp['spo_list']])\n",
    "        })"
   ]
  },
  {
   "cell_type": "code",
   "execution_count": 79,
   "metadata": {},
   "outputs": [],
   "source": [
    "flag = []\n",
    "text = []\n",
    "spo = []\n",
    "for d in data:\n",
    "    if '妻子' in d['spo_list'] and '丈夫' in d['spo_list']:\n",
    "        flag.append(0)\n",
    "    if '妻子' in d['spo_list'] and '丈夫' not in d['spo_list']:\n",
    "        flag.append(1)\n",
    "    if '妻子' not in d['spo_list'] and '丈夫' in d['spo_list']:\n",
    "        flag.append(2)\n",
    "    if '妻子' not in d['spo_list'] and '丈夫' not in d['spo_list']:\n",
    "        flag.append(3)\n",
    "    text.append(d['text'])\n",
    "    spo.append(d['spo_list'])"
   ]
  },
  {
   "cell_type": "code",
   "execution_count": 80,
   "metadata": {},
   "outputs": [],
   "source": [
    "df = pd.DataFrame({'d':text, 'flag':flag, 'spo':spo})"
   ]
  },
  {
   "cell_type": "code",
   "execution_count": null,
   "metadata": {
    "collapsed": true
   },
   "outputs": [],
   "source": []
  },
  {
   "cell_type": "code",
   "execution_count": null,
   "metadata": {
    "collapsed": true
   },
   "outputs": [],
   "source": []
  },
  {
   "cell_type": "code",
   "execution_count": null,
   "metadata": {
    "collapsed": true
   },
   "outputs": [],
   "source": []
  },
  {
   "cell_type": "code",
   "execution_count": null,
   "metadata": {
    "collapsed": true
   },
   "outputs": [],
   "source": []
  }
 ],
 "metadata": {
  "kernelspec": {
   "display_name": "Python 3",
   "language": "python",
   "name": "python3"
  },
  "language_info": {
   "codemirror_mode": {
    "name": "ipython",
    "version": 3
   },
   "file_extension": ".py",
   "mimetype": "text/x-python",
   "name": "python",
   "nbconvert_exporter": "python",
   "pygments_lexer": "ipython3",
   "version": "3.6.8"
  }
 },
 "nbformat": 4,
 "nbformat_minor": 2
}
