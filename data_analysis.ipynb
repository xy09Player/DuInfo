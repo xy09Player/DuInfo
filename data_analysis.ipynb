{
 "cells": [
  {
   "cell_type": "code",
   "execution_count": 1,
   "metadata": {
    "collapsed": true
   },
   "outputs": [],
   "source": [
    "import json\n",
    "import pandas as pd\n",
    "import jieba\n",
    "from jieba import posseg\n",
    "import numpy as np\n",
    "from loader import *\n",
    "import pickle\n",
    "import torch\n",
    "from torch import nn\n",
    "import random\n",
    "import sys\n",
    "# from modules import embedding, encoder, model_sbj\n",
    "from sklearn.model_selection import KFold"
   ]
  },
  {
   "cell_type": "code",
   "execution_count": 4,
   "metadata": {},
   "outputs": [
    {
     "data": {
      "text/plain": [
       "False"
      ]
     },
     "execution_count": 4,
     "metadata": {},
     "output_type": "execute_result"
    }
   ],
   "source": [
    "[1,2,[1,4]] == [1,2,[1,2]]"
   ]
  },
  {
   "cell_type": "code",
   "execution_count": 2,
   "metadata": {
    "collapsed": true
   },
   "outputs": [],
   "source": [
    "file_path = '../data/dev_data.json'"
   ]
  },
  {
   "cell_type": "code",
   "execution_count": 3,
   "metadata": {
    "collapsed": true
   },
   "outputs": [],
   "source": [
    "a = gen_test_data_p(file_path)"
   ]
  },
  {
   "cell_type": "code",
   "execution_count": 5,
   "metadata": {},
   "outputs": [
    {
     "name": "stdout",
     "output_type": "stream",
     "text": [
      "['查', '尔', '斯', '·', '阿', '兰', '基', '斯', '（', 'charles', ' ', 'ar', 'á', 'nguiz', '）', '，', '1', '9', '8', '9', '年', '4', '月', '1', '7', '日', '出', '生', '于', '智', '利', '圣', '地', '亚', '哥', '，', '智', '利', '职', '业', '足', '球', '运', '动', '员', '，', '司', '职', '中', '场', '，', '效', '力', '于', '德', '国', '足', '球', '甲', '级', '联', '赛', '勒', '沃', '库', '森', '足', '球', '俱', '乐', '部']\n",
      "[(0, 7), (0, 7), (0, 7), (0, 7), (0, 7)]\n",
      "[(29, 34), (54, 55), (16, 25), (29, 30), (36, 37)]\n"
     ]
    }
   ],
   "source": [
    "index = 0\n",
    "print(a[0][index])\n",
    "print(a[1][index])\n",
    "print(a[2][index])"
   ]
  },
  {
   "cell_type": "code",
   "execution_count": null,
   "metadata": {
    "collapsed": true
   },
   "outputs": [],
   "source": []
  },
  {
   "cell_type": "code",
   "execution_count": null,
   "metadata": {
    "collapsed": true
   },
   "outputs": [],
   "source": [
    "text, sbj_bounds, obj_bounds, ps = batch\n",
    "\n",
    "            # 裁剪\n",
    "            text_mask = torch.ne(text, 0)\n",
    "            max_len = text_mask.sum(dim=1).max().item()\n",
    "            text_mask = text_mask[:, :max_len]\n",
    "            text = text[:, :max_len]\n",
    "\n",
    "            # embedding\n",
    "            text_emb = self.embedding(text).transpose(0, 1)\n",
    "\n",
    "            # encoder\n",
    "            text_vec = self.encoder(text_emb, text_mask)\n",
    "\n",
    "            # 构造p训练数据\n",
    "            text_vec = text_vec.transpose(0, 1)\n",
    "            batch_size = text.size(0)\n",
    "            max_samples = sbj_bounds.size(1)\n",
    "            x = []\n",
    "            y = []\n",
    "            for i in range(batch_size):\n",
    "                vec = text_vec[i]\n",
    "                sbj_bound = sbj_bounds[i]\n",
    "                obj_bound = obj_bounds[i]\n",
    "                p = ps[i]\n",
    "\n",
    "                for j in range(max_samples):\n",
    "                    if sbj_bound[j].sum() < 0:\n",
    "                        break\n",
    "                    vec_sbj_tmp = vec.index_select(dim=0, index=sbj_bound[j]).mean(dim=0)\n",
    "                    vec_obj_tmp = vec.index_select(dim=0, index=obj_bound[j]).mean(dim=0)\n",
    "                    vec_tmp = torch.cat([vec_sbj_tmp, vec_obj_tmp]).reshape(1, -1)\n",
    "                    x.append(vec_tmp)\n",
    "                    y.append(p[j].reshape(1, -1))\n",
    "            x = torch.cat(x, dim=0)  # (*, h*4)\n",
    "            y = torch.cat(y, dim=0)  # (*, 49)\n",
    "\n",
    "            # p\n",
    "            x = self.p_fc(x)\n",
    "            loss_p = F.binary_cross_entropy_with_logits(x, y.float())"
   ]
  },
  {
   "cell_type": "code",
   "execution_count": null,
   "metadata": {
    "collapsed": true
   },
   "outputs": [],
   "source": []
  },
  {
   "cell_type": "code",
   "execution_count": null,
   "metadata": {
    "collapsed": true
   },
   "outputs": [],
   "source": []
  },
  {
   "cell_type": "code",
   "execution_count": null,
   "metadata": {
    "collapsed": true
   },
   "outputs": [],
   "source": []
  },
  {
   "cell_type": "code",
   "execution_count": null,
   "metadata": {
    "collapsed": true
   },
   "outputs": [],
   "source": []
  },
  {
   "cell_type": "code",
   "execution_count": null,
   "metadata": {
    "collapsed": true
   },
   "outputs": [],
   "source": []
  }
 ],
 "metadata": {
  "kernelspec": {
   "display_name": "Python 3",
   "language": "python",
   "name": "python3"
  },
  "language_info": {
   "codemirror_mode": {
    "name": "ipython",
    "version": 3
   },
   "file_extension": ".py",
   "mimetype": "text/x-python",
   "name": "python",
   "nbconvert_exporter": "python",
   "pygments_lexer": "ipython3",
   "version": "3.6.8"
  }
 },
 "nbformat": 4,
 "nbformat_minor": 2
}
