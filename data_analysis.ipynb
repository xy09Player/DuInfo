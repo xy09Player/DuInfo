{
 "cells": [
  {
   "cell_type": "code",
   "execution_count": 1,
   "metadata": {
    "collapsed": true
   },
   "outputs": [],
   "source": [
    "import json\n",
    "import pandas as pd\n",
    "import jieba\n",
    "from jieba import posseg\n",
    "import numpy as np\n",
    "from loader import *\n",
    "import pickle\n",
    "import torch\n",
    "from torch import nn\n",
    "import random\n",
    "import sys\n",
    "# from modules import embedding, encoder, model_sbj\n",
    "from sklearn.model_selection import KFold"
   ]
  },
  {
   "cell_type": "code",
   "execution_count": 2,
   "metadata": {
    "collapsed": true
   },
   "outputs": [],
   "source": [
    "file_path = '../data/train_data.json'"
   ]
  },
  {
   "cell_type": "code",
   "execution_count": 3,
   "metadata": {},
   "outputs": [
    {
     "name": "stdout",
     "output_type": "stream",
     "text": [
      "p, making sample_num:169325/173108, radio:0.9781\n"
     ]
    }
   ],
   "source": [
    "a = gen_train_data_p(file_path)"
   ]
  },
  {
   "cell_type": "code",
   "execution_count": 14,
   "metadata": {},
   "outputs": [
    {
     "name": "stdout",
     "output_type": "stream",
     "text": [
      "['现', '时', '勺', '嘴', '鹬', '属', '于', '鸻', '形', '目', '鹬', '科', '内', '的', '一', '种', '涉', '禽', '，', '但', '将', '涉', '禽', '归', '到', '鸻', '形', '目', '本', '身', '就', '是', '鸟', '类', 'dna', '分', '类', '系', '统', '的', '一', '大', '缺', '陷']\n",
      "[0, 0, [10], [11], [12], 0, 0, 0, 0, 0, 0, 0, 0, 0, 0, 0, 0, 0, 0, 0, 0, 0, 0, 0, 0, 0, 0, 0, 0, 0, 0, 0, 0, 0, 0, 0, 0, 0, 0, 0, 0, 0, 0, 0]\n",
      "[0, 0, 0, 0, 0, 0, 0, [40], [41], [42], 0, 0, 0, 0, 0, 0, 0, 0, 0, 0, 0, 0, 0, 0, 0, [40], [41], [42], 0, 0, 0, 0, 0, 0, 0, 0, 0, 0, 0, 0, 0, 0, 0, 0]\n",
      "[[(2, 4)]]\n",
      "[[(25, 27), (7, 9)]]\n",
      "[[0, 0, 0, 0, 0, 0, 0, 0, 0, 0, 0, 0, 0, 0, 0, 0, 0, 0, 0, 0, 0, 0, 0, 0, 0, 0, 0, 0, 0, 0, 0, 0, 0, 0, 0, 0, 0, 0, 0, 0, 0, 0, 0, 0, 0, 0, 0, 1, 0]]\n"
     ]
    }
   ],
   "source": [
    "index = 45\n",
    "print(a[0][index])\n",
    "print(a[1][index])\n",
    "print(a[2][index])\n",
    "print(a[3][index])\n",
    "print(a[4][index])\n",
    "print(a[5][index])"
   ]
  },
  {
   "cell_type": "code",
   "execution_count": null,
   "metadata": {
    "collapsed": true
   },
   "outputs": [],
   "source": []
  },
  {
   "cell_type": "code",
   "execution_count": null,
   "metadata": {
    "collapsed": true
   },
   "outputs": [],
   "source": [
    "def padding_three_d(tensors):\n",
    "    lens = [len(tensor) for tensor in tensors]\n",
    "    max_len = max(lens)\n",
    "    result = []\n",
    "    dim = len(tensors[0][0])\n",
    "    fill = [-9 for _ in range(dim)]\n",
    "    for tensor in tensors:\n",
    "        tensor += [fill for _ in range(max_len-len(tensor))]\n",
    "        result.append(tensor)\n",
    "    return result, max_len"
   ]
  },
  {
   "cell_type": "code",
   "execution_count": null,
   "metadata": {
    "collapsed": true
   },
   "outputs": [],
   "source": []
  }
 ],
 "metadata": {
  "kernelspec": {
   "display_name": "Python 3",
   "language": "python",
   "name": "python3"
  },
  "language_info": {
   "codemirror_mode": {
    "name": "ipython",
    "version": 3
   },
   "file_extension": ".py",
   "mimetype": "text/x-python",
   "name": "python",
   "nbconvert_exporter": "python",
   "pygments_lexer": "ipython3",
   "version": "3.6.8"
  }
 },
 "nbformat": 4,
 "nbformat_minor": 2
}
