{
 "cells": [
  {
   "cell_type": "code",
   "execution_count": 2,
   "metadata": {
    "collapsed": true
   },
   "outputs": [],
   "source": [
    "import json\n",
    "import pandas as pd\n",
    "import jieba\n",
    "from jieba import posseg\n",
    "import numpy as np\n",
    "from loader import *\n",
    "import torch\n",
    "import sys\n",
    "from modules import embedding, encoder, model_sbj\n",
    "from sklearn.model_selection import KFold"
   ]
  },
  {
   "cell_type": "code",
   "execution_count": 8,
   "metadata": {},
   "outputs": [],
   "source": [
    "data = []\n",
    "file_path = '../data/train_data.json'\n",
    "with open(file_path, 'r') as f:\n",
    "    for line in f:\n",
    "        tmp = json.loads(line)\n",
    "        data.append(tmp)"
   ]
  },
  {
   "cell_type": "code",
   "execution_count": 9,
   "metadata": {},
   "outputs": [
    {
     "data": {
      "text/plain": [
       "{'postag': [{'word': '如何', 'pos': 'r'},\n",
       "  {'word': '演', 'pos': 'v'},\n",
       "  {'word': '好', 'pos': 'a'},\n",
       "  {'word': '自己', 'pos': 'r'},\n",
       "  {'word': '的', 'pos': 'u'},\n",
       "  {'word': '角色', 'pos': 'n'},\n",
       "  {'word': '，', 'pos': 'w'},\n",
       "  {'word': '请', 'pos': 'v'},\n",
       "  {'word': '读', 'pos': 'v'},\n",
       "  {'word': '《', 'pos': 'w'},\n",
       "  {'word': '演员自我修养', 'pos': 'nw'},\n",
       "  {'word': '》', 'pos': 'w'},\n",
       "  {'word': '《', 'pos': 'w'},\n",
       "  {'word': '喜剧之王', 'pos': 'nw'},\n",
       "  {'word': '》', 'pos': 'w'},\n",
       "  {'word': '周星驰', 'pos': 'nr'},\n",
       "  {'word': '崛起', 'pos': 'v'},\n",
       "  {'word': '于', 'pos': 'p'},\n",
       "  {'word': '穷困潦倒', 'pos': 'a'},\n",
       "  {'word': '之中', 'pos': 'f'},\n",
       "  {'word': '的', 'pos': 'u'},\n",
       "  {'word': '独门', 'pos': 'n'},\n",
       "  {'word': '秘笈', 'pos': 'n'}],\n",
       " 'text': '如何演好自己的角色，请读《演员自我修养》《喜剧之王》周星驰崛起于穷困潦倒之中的独门秘笈',\n",
       " 'spo_list': [{'predicate': '主演',\n",
       "   'object_type': '人物',\n",
       "   'subject_type': '影视作品',\n",
       "   'object': '周星驰',\n",
       "   'subject': '喜剧之王'}]}"
      ]
     },
     "execution_count": 9,
     "metadata": {},
     "output_type": "execute_result"
    }
   ],
   "source": [
    "data[0]"
   ]
  },
  {
   "cell_type": "code",
   "execution_count": 29,
   "metadata": {},
   "outputs": [],
   "source": [
    "data_1 = []\n",
    "file_path = '../data/dev_data.json'\n",
    "with open(file_path, 'r') as f:\n",
    "    for line in f:\n",
    "        tmp = json.loads(line)\n",
    "        data_1.append(line)"
   ]
  },
  {
   "cell_type": "code",
   "execution_count": 9,
   "metadata": {
    "collapsed": true
   },
   "outputs": [],
   "source": [
    "data_np = np.array(data)"
   ]
  },
  {
   "cell_type": "code",
   "execution_count": 23,
   "metadata": {},
   "outputs": [],
   "source": [
    "splits = KFold(n_splits=10, shuffle=True, random_state=333).split(list(range(len(data_np))))"
   ]
  },
  {
   "cell_type": "code",
   "execution_count": 24,
   "metadata": {},
   "outputs": [],
   "source": [
    "for train_index, val_index in splits:\n",
    "    tmp = data_np[val_index]\n",
    "    break"
   ]
  },
  {
   "cell_type": "code",
   "execution_count": 25,
   "metadata": {},
   "outputs": [
    {
     "data": {
      "text/plain": [
       "19475"
      ]
     },
     "execution_count": 25,
     "metadata": {},
     "output_type": "execute_result"
    }
   ],
   "source": [
    "len(tmp)"
   ]
  },
  {
   "cell_type": "code",
   "execution_count": null,
   "metadata": {
    "collapsed": true
   },
   "outputs": [],
   "source": []
  },
  {
   "cell_type": "code",
   "execution_count": null,
   "metadata": {
    "collapsed": true
   },
   "outputs": [],
   "source": []
  },
  {
   "cell_type": "code",
   "execution_count": null,
   "metadata": {
    "collapsed": true
   },
   "outputs": [],
   "source": []
  }
 ],
 "metadata": {
  "kernelspec": {
   "display_name": "Python 3",
   "language": "python",
   "name": "python3"
  }
 },
 "nbformat": 4,
 "nbformat_minor": 2
}
